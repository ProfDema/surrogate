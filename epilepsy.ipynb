{
 "cells": [
  {
   "cell_type": "code",
   "execution_count": 2,
   "metadata": {},
   "outputs": [],
   "source": [
    "import pickle\n",
    "import numpy as np"
   ]
  },
  {
   "cell_type": "code",
   "execution_count": 5,
   "metadata": {},
   "outputs": [
    {
     "name": "stdout",
     "output_type": "stream",
     "text": [
      "(86000,)\n"
     ]
    }
   ],
   "source": [
    "data_file = open('e24', 'rb')\n",
    "data = pickle.load(data_file)\n",
    "print(data.shape)"
   ]
  },
  {
   "cell_type": "code",
   "execution_count": 14,
   "metadata": {},
   "outputs": [],
   "source": [
    "def getEmbeddedData(data, dim=2):\n",
    "    '''\n",
    "    Compute delay embedding\n",
    "    Parameters\n",
    "    ----------\n",
    "    data: np.array\n",
    "        Time series values\n",
    "    dim: int\n",
    "        Dimension for delay embedding\n",
    "    '''\n",
    "    numpts = len(data) - (dim-1)\n",
    "    pts = [[data[i+j] for j in range(dim)] for i in range(numpts)]\n",
    "    return np.array(pts)"
   ]
  },
  {
   "cell_type": "code",
   "execution_count": 15,
   "metadata": {},
   "outputs": [],
   "source": [
    "X = getEmbeddedData(data)"
   ]
  },
  {
   "cell_type": "code",
   "execution_count": 16,
   "metadata": {},
   "outputs": [
    {
     "name": "stdout",
     "output_type": "stream",
     "text": [
      "[[-0.3762 -0.3703]\n",
      " [-0.3703 -0.3671]\n",
      " [-0.3671 -0.3671]\n",
      " ...\n",
      " [-0.6362 -0.6361]\n",
      " [-0.6361 -0.6385]\n",
      " [-0.6385 -0.6351]]\n"
     ]
    }
   ],
   "source": [
    "print(X)"
   ]
  },
  {
   "cell_type": "code",
   "execution_count": null,
   "metadata": {},
   "outputs": [],
   "source": []
  }
 ],
 "metadata": {
  "kernelspec": {
   "display_name": "Python 3",
   "language": "python",
   "name": "python3"
  },
  "language_info": {
   "codemirror_mode": {
    "name": "ipython",
    "version": 3
   },
   "file_extension": ".py",
   "mimetype": "text/x-python",
   "name": "python",
   "nbconvert_exporter": "python",
   "pygments_lexer": "ipython3",
   "version": "3.7.6"
  }
 },
 "nbformat": 4,
 "nbformat_minor": 4
}
