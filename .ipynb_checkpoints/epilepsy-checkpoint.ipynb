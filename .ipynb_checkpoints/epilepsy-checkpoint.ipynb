{
 "cells": [
  {
   "cell_type": "code",
   "execution_count": 2,
   "metadata": {},
   "outputs": [],
   "source": [
    "import pickle\n",
    "import numpy as np"
   ]
  },
  {
   "cell_type": "code",
   "execution_count": 5,
   "metadata": {},
   "outputs": [
    {
     "name": "stdout",
     "output_type": "stream",
     "text": [
      "(86000,)\n"
     ]
    }
   ],
   "source": [
    "data_file = open('e24', 'rb')\n",
    "data = pickle.load(data_file)\n",
    "print(data.shape)"
   ]
  },
  {
   "cell_type": "code",
   "execution_count": null,
   "metadata": {},
   "outputs": [],
   "source": [
    "def getSlidingWindow(data, dim=2):\n",
    "    '''\n",
    "    Compute delay embedding\n",
    "    Parameters\n",
    "    ----------\n",
    "    data: np.array\n",
    "        Time series values\n",
    "    dim: int\n",
    "        Dimension for delay embedding\n",
    "    '''\n",
    "    numpts = len(data) - tau * (d-1)\n",
    "    pts = [[data[i+(j*tau)] for j in range(d)] for i in range(numpts)]\n",
    "    return np.array(pts)"
   ]
  }
 ],
 "metadata": {
  "kernelspec": {
   "display_name": "Python 3",
   "language": "python",
   "name": "python3"
  },
  "language_info": {
   "codemirror_mode": {
    "name": "ipython",
    "version": 3
   },
   "file_extension": ".py",
   "mimetype": "text/x-python",
   "name": "python",
   "nbconvert_exporter": "python",
   "pygments_lexer": "ipython3",
   "version": "3.7.6"
  }
 },
 "nbformat": 4,
 "nbformat_minor": 4
}
